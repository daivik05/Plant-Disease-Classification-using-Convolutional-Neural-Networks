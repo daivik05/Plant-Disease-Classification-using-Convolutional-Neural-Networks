{
  "nbformat": 4,
  "nbformat_minor": 0,
  "metadata": {
    "colab": {
      "provenance": [],
      "gpuType": "T4",
      "authorship_tag": "ABX9TyM8EkmWolmJXCtMRAzpDv7L",
      "include_colab_link": true
    },
    "kernelspec": {
      "name": "python3",
      "display_name": "Python 3"
    },
    "language_info": {
      "name": "python"
    },
    "accelerator": "GPU"
  },
  "cells": [
    {
      "cell_type": "markdown",
      "metadata": {
        "id": "view-in-github",
        "colab_type": "text"
      },
      "source": [
        "<a href=\"https://colab.research.google.com/github/daivik05/Plant-Disease-Classification-using-Convolutional-Neural-Networks/blob/master/first.ipynb\" target=\"_parent\"><img src=\"https://colab.research.google.com/assets/colab-badge.svg\" alt=\"Open In Colab\"/></a>"
      ]
    },
    {
      "cell_type": "markdown",
      "source": [
        "# Install Dependencies and Setup"
      ],
      "metadata": {
        "id": "VgXOVOFFdfh2"
      }
    },
    {
      "cell_type": "code",
      "source": [
        "import warnings\n",
        "warnings.filterwarnings('ignore')\n",
        "\n",
        "import os\n",
        "import pandas as pd\n",
        "import numpy as np\n",
        "import matplotlib.pyplot as plt\n",
        "%matplotlib inline\n",
        "import seaborn as sns\n",
        "from sklearn.metrics import classification_report , confusion_matrix , accuracy_score , auc\n",
        "from sklearn.model_selection import train_test_split\n",
        "\n",
        "import cv2\n",
        "#from google.colab.patches import cv2_imshow\n",
        "from PIL import Image\n",
        "import tensorflow as tf\n",
        "from tensorflow import keras\n",
        "from keras import Sequential\n",
        "from keras.layers import Input, Dense,Conv2D , MaxPooling2D, Flatten,BatchNormalization,Dropout\n",
        "from tensorflow.keras.preprocessing import image_dataset_from_directory\n",
        "import tensorflow_hub as hub\n",
        "\n",
        "from keras.applications import MobileNetV2\n",
        "from keras.applications.vgg19 import VGG19\n",
        "from keras.preprocessing.image import ImageDataGenerator\n",
        "from keras.layers import GlobalAveragePooling2D"
      ],
      "metadata": {
        "id": "JEuL2-12Mq6B"
      },
      "execution_count": 1,
      "outputs": []
    },
    {
      "cell_type": "code",
      "source": [
        "!pip install tensorflow\n"
      ],
      "metadata": {
        "id": "EYT0l180Hclw",
        "colab": {
          "base_uri": "https://localhost:8080/"
        },
        "outputId": "02e11470-ba54-463c-f7c6-6b582df4f65e"
      },
      "execution_count": 2,
      "outputs": [
        {
          "output_type": "stream",
          "name": "stdout",
          "text": [
            "Requirement already satisfied: tensorflow in /usr/local/lib/python3.10/dist-packages (2.15.0)\n",
            "Requirement already satisfied: absl-py>=1.0.0 in /usr/local/lib/python3.10/dist-packages (from tensorflow) (1.4.0)\n",
            "Requirement already satisfied: astunparse>=1.6.0 in /usr/local/lib/python3.10/dist-packages (from tensorflow) (1.6.3)\n",
            "Requirement already satisfied: flatbuffers>=23.5.26 in /usr/local/lib/python3.10/dist-packages (from tensorflow) (24.3.25)\n",
            "Requirement already satisfied: gast!=0.5.0,!=0.5.1,!=0.5.2,>=0.2.1 in /usr/local/lib/python3.10/dist-packages (from tensorflow) (0.5.4)\n",
            "Requirement already satisfied: google-pasta>=0.1.1 in /usr/local/lib/python3.10/dist-packages (from tensorflow) (0.2.0)\n",
            "Requirement already satisfied: h5py>=2.9.0 in /usr/local/lib/python3.10/dist-packages (from tensorflow) (3.9.0)\n",
            "Requirement already satisfied: libclang>=13.0.0 in /usr/local/lib/python3.10/dist-packages (from tensorflow) (18.1.1)\n",
            "Requirement already satisfied: ml-dtypes~=0.2.0 in /usr/local/lib/python3.10/dist-packages (from tensorflow) (0.2.0)\n",
            "Requirement already satisfied: numpy<2.0.0,>=1.23.5 in /usr/local/lib/python3.10/dist-packages (from tensorflow) (1.25.2)\n",
            "Requirement already satisfied: opt-einsum>=2.3.2 in /usr/local/lib/python3.10/dist-packages (from tensorflow) (3.3.0)\n",
            "Requirement already satisfied: packaging in /usr/local/lib/python3.10/dist-packages (from tensorflow) (24.0)\n",
            "Requirement already satisfied: protobuf!=4.21.0,!=4.21.1,!=4.21.2,!=4.21.3,!=4.21.4,!=4.21.5,<5.0.0dev,>=3.20.3 in /usr/local/lib/python3.10/dist-packages (from tensorflow) (3.20.3)\n",
            "Requirement already satisfied: setuptools in /usr/local/lib/python3.10/dist-packages (from tensorflow) (67.7.2)\n",
            "Requirement already satisfied: six>=1.12.0 in /usr/local/lib/python3.10/dist-packages (from tensorflow) (1.16.0)\n",
            "Requirement already satisfied: termcolor>=1.1.0 in /usr/local/lib/python3.10/dist-packages (from tensorflow) (2.4.0)\n",
            "Requirement already satisfied: typing-extensions>=3.6.6 in /usr/local/lib/python3.10/dist-packages (from tensorflow) (4.10.0)\n",
            "Requirement already satisfied: wrapt<1.15,>=1.11.0 in /usr/local/lib/python3.10/dist-packages (from tensorflow) (1.14.1)\n",
            "Requirement already satisfied: tensorflow-io-gcs-filesystem>=0.23.1 in /usr/local/lib/python3.10/dist-packages (from tensorflow) (0.36.0)\n",
            "Requirement already satisfied: grpcio<2.0,>=1.24.3 in /usr/local/lib/python3.10/dist-packages (from tensorflow) (1.62.1)\n",
            "Requirement already satisfied: tensorboard<2.16,>=2.15 in /usr/local/lib/python3.10/dist-packages (from tensorflow) (2.15.2)\n",
            "Requirement already satisfied: tensorflow-estimator<2.16,>=2.15.0 in /usr/local/lib/python3.10/dist-packages (from tensorflow) (2.15.0)\n",
            "Requirement already satisfied: keras<2.16,>=2.15.0 in /usr/local/lib/python3.10/dist-packages (from tensorflow) (2.15.0)\n",
            "Requirement already satisfied: wheel<1.0,>=0.23.0 in /usr/local/lib/python3.10/dist-packages (from astunparse>=1.6.0->tensorflow) (0.43.0)\n",
            "Requirement already satisfied: google-auth<3,>=1.6.3 in /usr/local/lib/python3.10/dist-packages (from tensorboard<2.16,>=2.15->tensorflow) (2.27.0)\n",
            "Requirement already satisfied: google-auth-oauthlib<2,>=0.5 in /usr/local/lib/python3.10/dist-packages (from tensorboard<2.16,>=2.15->tensorflow) (1.2.0)\n",
            "Requirement already satisfied: markdown>=2.6.8 in /usr/local/lib/python3.10/dist-packages (from tensorboard<2.16,>=2.15->tensorflow) (3.6)\n",
            "Requirement already satisfied: requests<3,>=2.21.0 in /usr/local/lib/python3.10/dist-packages (from tensorboard<2.16,>=2.15->tensorflow) (2.31.0)\n",
            "Requirement already satisfied: tensorboard-data-server<0.8.0,>=0.7.0 in /usr/local/lib/python3.10/dist-packages (from tensorboard<2.16,>=2.15->tensorflow) (0.7.2)\n",
            "Requirement already satisfied: werkzeug>=1.0.1 in /usr/local/lib/python3.10/dist-packages (from tensorboard<2.16,>=2.15->tensorflow) (3.0.2)\n",
            "Requirement already satisfied: cachetools<6.0,>=2.0.0 in /usr/local/lib/python3.10/dist-packages (from google-auth<3,>=1.6.3->tensorboard<2.16,>=2.15->tensorflow) (5.3.3)\n",
            "Requirement already satisfied: pyasn1-modules>=0.2.1 in /usr/local/lib/python3.10/dist-packages (from google-auth<3,>=1.6.3->tensorboard<2.16,>=2.15->tensorflow) (0.4.0)\n",
            "Requirement already satisfied: rsa<5,>=3.1.4 in /usr/local/lib/python3.10/dist-packages (from google-auth<3,>=1.6.3->tensorboard<2.16,>=2.15->tensorflow) (4.9)\n",
            "Requirement already satisfied: requests-oauthlib>=0.7.0 in /usr/local/lib/python3.10/dist-packages (from google-auth-oauthlib<2,>=0.5->tensorboard<2.16,>=2.15->tensorflow) (1.3.1)\n",
            "Requirement already satisfied: charset-normalizer<4,>=2 in /usr/local/lib/python3.10/dist-packages (from requests<3,>=2.21.0->tensorboard<2.16,>=2.15->tensorflow) (3.3.2)\n",
            "Requirement already satisfied: idna<4,>=2.5 in /usr/local/lib/python3.10/dist-packages (from requests<3,>=2.21.0->tensorboard<2.16,>=2.15->tensorflow) (3.6)\n",
            "Requirement already satisfied: urllib3<3,>=1.21.1 in /usr/local/lib/python3.10/dist-packages (from requests<3,>=2.21.0->tensorboard<2.16,>=2.15->tensorflow) (2.0.7)\n",
            "Requirement already satisfied: certifi>=2017.4.17 in /usr/local/lib/python3.10/dist-packages (from requests<3,>=2.21.0->tensorboard<2.16,>=2.15->tensorflow) (2024.2.2)\n",
            "Requirement already satisfied: MarkupSafe>=2.1.1 in /usr/local/lib/python3.10/dist-packages (from werkzeug>=1.0.1->tensorboard<2.16,>=2.15->tensorflow) (2.1.5)\n",
            "Requirement already satisfied: pyasn1<0.7.0,>=0.4.6 in /usr/local/lib/python3.10/dist-packages (from pyasn1-modules>=0.2.1->google-auth<3,>=1.6.3->tensorboard<2.16,>=2.15->tensorflow) (0.6.0)\n",
            "Requirement already satisfied: oauthlib>=3.0.0 in /usr/local/lib/python3.10/dist-packages (from requests-oauthlib>=0.7.0->google-auth-oauthlib<2,>=0.5->tensorboard<2.16,>=2.15->tensorflow) (3.2.2)\n"
          ]
        }
      ]
    },
    {
      "cell_type": "markdown",
      "source": [
        "# Load Data"
      ],
      "metadata": {
        "id": "9GHocRAudqXu"
      }
    },
    {
      "cell_type": "code",
      "source": [
        "repo_name = 'Plant-Disease-Classification-using-Convolutional-Neural-Networks'\n",
        "repo_url = f'https://github.com/daivik05/Plant-Disease-Classification-using-Convolutional-Neural-Networks.git'  # Replace your_username\n",
        "!git clone $repo_url"
      ],
      "metadata": {
        "id": "TWVOEYdU_lN8",
        "colab": {
          "base_uri": "https://localhost:8080/"
        },
        "outputId": "5e65495b-e5ce-41f5-81d3-605f96535842"
      },
      "execution_count": 3,
      "outputs": [
        {
          "output_type": "stream",
          "name": "stdout",
          "text": [
            "Cloning into 'Plant-Disease-Classification-using-Convolutional-Neural-Networks'...\n",
            "remote: Enumerating objects: 88013, done.\u001b[K\n",
            "remote: Counting objects: 100% (78/78), done.\u001b[K\n",
            "remote: Compressing objects: 100% (75/75), done.\u001b[K\n",
            "remote: Total 88013 (delta 32), reused 0 (delta 0), pack-reused 87935\u001b[K\n",
            "Receiving objects: 100% (88013/88013), 1.32 GiB | 26.89 MiB/s, done.\n",
            "Resolving deltas: 100% (52/52), done.\n",
            "Updating files: 100% (87905/87905), done.\n"
          ]
        }
      ]
    },
    {
      "cell_type": "code",
      "source": [
        "project_dir = f'/content/{repo_name}'\n",
        "%cd $project_dir"
      ],
      "metadata": {
        "id": "0F2klCs8HOiO",
        "colab": {
          "base_uri": "https://localhost:8080/"
        },
        "outputId": "c8ebec09-59ca-4c22-bc7b-01de3adae64b"
      },
      "execution_count": 4,
      "outputs": [
        {
          "output_type": "stream",
          "name": "stdout",
          "text": [
            "/content/Plant-Disease-Classification-using-Convolutional-Neural-Networks\n"
          ]
        }
      ]
    },
    {
      "cell_type": "code",
      "source": [
        "train_path = 'New Plant Diseases Dataset(Augmented)/New Plant Diseases Dataset(Augmented)/train'\n",
        "valid_path = 'New Plant Diseases Dataset(Augmented)/New Plant Diseases Dataset(Augmented)/valid'\n"
      ],
      "metadata": {
        "id": "B8SSBbcXHm4Z"
      },
      "execution_count": 5,
      "outputs": []
    },
    {
      "cell_type": "code",
      "source": [
        "train_data = tf.keras.preprocessing.image_dataset_from_directory(\n",
        " train_path,\n",
        "    batch_size=256,\n",
        "  image_size=(224,224), shuffle=True\n",
        ")"
      ],
      "metadata": {
        "id": "nF7vNRqOPyf-",
        "colab": {
          "base_uri": "https://localhost:8080/"
        },
        "outputId": "9ac499e8-8389-47f1-ee2c-3a3a4cbfc2bc"
      },
      "execution_count": 6,
      "outputs": [
        {
          "output_type": "stream",
          "name": "stdout",
          "text": [
            "Found 70295 files belonging to 38 classes.\n"
          ]
        }
      ]
    },
    {
      "cell_type": "code",
      "source": [
        "valid_data = tf.keras.preprocessing.image_dataset_from_directory(\n",
        " valid_path,\n",
        "    batch_size=256,\n",
        "  image_size=(224,224), shuffle=True\n",
        ")"
      ],
      "metadata": {
        "id": "wba-Q-ILP-yR",
        "colab": {
          "base_uri": "https://localhost:8080/"
        },
        "outputId": "db393bbd-6a6a-43ee-dc3e-957eb350e378"
      },
      "execution_count": 7,
      "outputs": [
        {
          "output_type": "stream",
          "name": "stdout",
          "text": [
            "Found 17572 files belonging to 38 classes.\n"
          ]
        }
      ]
    },
    {
      "cell_type": "markdown",
      "source": [
        "# Split and generate data"
      ],
      "metadata": {
        "id": "DKm70QM9d-id"
      }
    },
    {
      "cell_type": "code",
      "source": [
        "datagen = ImageDataGenerator(\n",
        "    rescale=1.0/255.0,\n",
        "    shear_range=0.2,\n",
        "    zoom_range=0.2,\n",
        "    horizontal_flip=True,\n",
        "    validation_split=0.2\n",
        ")"
      ],
      "metadata": {
        "id": "UE2zCvWGJybR"
      },
      "execution_count": 8,
      "outputs": []
    },
    {
      "cell_type": "code",
      "source": [
        "train_generator = datagen.flow_from_directory(\n",
        "    train_path,\n",
        "    target_size=(224, 224),\n",
        "    batch_size=32,\n",
        "    class_mode='categorical',\n",
        "    subset='training'\n",
        ")"
      ],
      "metadata": {
        "id": "sDTIom_-J1rl",
        "colab": {
          "base_uri": "https://localhost:8080/"
        },
        "outputId": "ccb45bc6-b828-4b63-c680-b6ba4b114ea9"
      },
      "execution_count": 9,
      "outputs": [
        {
          "output_type": "stream",
          "name": "stdout",
          "text": [
            "Found 56251 images belonging to 38 classes.\n"
          ]
        }
      ]
    },
    {
      "cell_type": "code",
      "source": [
        "validation_generator = datagen.flow_from_directory(\n",
        "    valid_path,\n",
        "    target_size=(224, 224),\n",
        "    batch_size=32,\n",
        "    class_mode='categorical',\n",
        "    subset='validation'\n",
        ")"
      ],
      "metadata": {
        "id": "NMpBebyYJ42e",
        "colab": {
          "base_uri": "https://localhost:8080/"
        },
        "outputId": "e68b5dea-4e1f-471a-d555-e6b0afc2f5b7"
      },
      "execution_count": 10,
      "outputs": [
        {
          "output_type": "stream",
          "name": "stdout",
          "text": [
            "Found 3503 images belonging to 38 classes.\n"
          ]
        }
      ]
    },
    {
      "cell_type": "code",
      "source": [
        "for img, label in train_generator:\n",
        "    print(\"Training Batch Shapes:\", img.shape, label.shape)\n",
        "    break\n",
        "\n",
        "for img, label in validation_generator:\n",
        "    print(\"Validation Batch Shapes:\", img.shape, label.shape)\n",
        "    break\n",
        "\n"
      ],
      "metadata": {
        "id": "V_Joiz9HNuxn",
        "colab": {
          "base_uri": "https://localhost:8080/"
        },
        "outputId": "9027fc5a-51cf-4859-acf8-c846cd28897f"
      },
      "execution_count": 11,
      "outputs": [
        {
          "output_type": "stream",
          "name": "stdout",
          "text": [
            "Training Batch Shapes: (32, 224, 224, 3) (32, 38)\n",
            "Validation Batch Shapes: (32, 224, 224, 3) (32, 38)\n"
          ]
        }
      ]
    },
    {
      "cell_type": "code",
      "source": [
        "train_generator.class_indices\n"
      ],
      "metadata": {
        "id": "6_y6bCoVL-t5",
        "colab": {
          "base_uri": "https://localhost:8080/"
        },
        "outputId": "1ec487fa-d4e8-496b-b647-7e3bf91566a1"
      },
      "execution_count": 12,
      "outputs": [
        {
          "output_type": "execute_result",
          "data": {
            "text/plain": [
              "{'Apple___Apple_scab': 0,\n",
              " 'Apple___Black_rot': 1,\n",
              " 'Apple___Cedar_apple_rust': 2,\n",
              " 'Apple___healthy': 3,\n",
              " 'Blueberry___healthy': 4,\n",
              " 'Cherry_(including_sour)___Powdery_mildew': 5,\n",
              " 'Cherry_(including_sour)___healthy': 6,\n",
              " 'Corn_(maize)___Cercospora_leaf_spot Gray_leaf_spot': 7,\n",
              " 'Corn_(maize)___Common_rust_': 8,\n",
              " 'Corn_(maize)___Northern_Leaf_Blight': 9,\n",
              " 'Corn_(maize)___healthy': 10,\n",
              " 'Grape___Black_rot': 11,\n",
              " 'Grape___Esca_(Black_Measles)': 12,\n",
              " 'Grape___Leaf_blight_(Isariopsis_Leaf_Spot)': 13,\n",
              " 'Grape___healthy': 14,\n",
              " 'Orange___Haunglongbing_(Citrus_greening)': 15,\n",
              " 'Peach___Bacterial_spot': 16,\n",
              " 'Peach___healthy': 17,\n",
              " 'Pepper,_bell___Bacterial_spot': 18,\n",
              " 'Pepper,_bell___healthy': 19,\n",
              " 'Potato___Early_blight': 20,\n",
              " 'Potato___Late_blight': 21,\n",
              " 'Potato___healthy': 22,\n",
              " 'Raspberry___healthy': 23,\n",
              " 'Soybean___healthy': 24,\n",
              " 'Squash___Powdery_mildew': 25,\n",
              " 'Strawberry___Leaf_scorch': 26,\n",
              " 'Strawberry___healthy': 27,\n",
              " 'Tomato___Bacterial_spot': 28,\n",
              " 'Tomato___Early_blight': 29,\n",
              " 'Tomato___Late_blight': 30,\n",
              " 'Tomato___Leaf_Mold': 31,\n",
              " 'Tomato___Septoria_leaf_spot': 32,\n",
              " 'Tomato___Spider_mites Two-spotted_spider_mite': 33,\n",
              " 'Tomato___Target_Spot': 34,\n",
              " 'Tomato___Tomato_Yellow_Leaf_Curl_Virus': 35,\n",
              " 'Tomato___Tomato_mosaic_virus': 36,\n",
              " 'Tomato___healthy': 37}"
            ]
          },
          "metadata": {},
          "execution_count": 12
        }
      ]
    },
    {
      "cell_type": "code",
      "source": [
        "len(train_data.class_names)"
      ],
      "metadata": {
        "id": "pDbHzhHmPfzk",
        "colab": {
          "base_uri": "https://localhost:8080/"
        },
        "outputId": "8e5d1b33-e827-4569-dc96-130b9baf056e"
      },
      "execution_count": 13,
      "outputs": [
        {
          "output_type": "execute_result",
          "data": {
            "text/plain": [
              "38"
            ]
          },
          "metadata": {},
          "execution_count": 13
        }
      ]
    },
    {
      "cell_type": "code",
      "source": [
        "class_labels = train_data.class_names\n",
        "class_labels"
      ],
      "metadata": {
        "id": "ZfAxJPICPU4V",
        "colab": {
          "base_uri": "https://localhost:8080/"
        },
        "outputId": "a3928844-f8a9-4cf3-d37d-22e2a500eec8"
      },
      "execution_count": 14,
      "outputs": [
        {
          "output_type": "execute_result",
          "data": {
            "text/plain": [
              "['Apple___Apple_scab',\n",
              " 'Apple___Black_rot',\n",
              " 'Apple___Cedar_apple_rust',\n",
              " 'Apple___healthy',\n",
              " 'Blueberry___healthy',\n",
              " 'Cherry_(including_sour)___Powdery_mildew',\n",
              " 'Cherry_(including_sour)___healthy',\n",
              " 'Corn_(maize)___Cercospora_leaf_spot Gray_leaf_spot',\n",
              " 'Corn_(maize)___Common_rust_',\n",
              " 'Corn_(maize)___Northern_Leaf_Blight',\n",
              " 'Corn_(maize)___healthy',\n",
              " 'Grape___Black_rot',\n",
              " 'Grape___Esca_(Black_Measles)',\n",
              " 'Grape___Leaf_blight_(Isariopsis_Leaf_Spot)',\n",
              " 'Grape___healthy',\n",
              " 'Orange___Haunglongbing_(Citrus_greening)',\n",
              " 'Peach___Bacterial_spot',\n",
              " 'Peach___healthy',\n",
              " 'Pepper,_bell___Bacterial_spot',\n",
              " 'Pepper,_bell___healthy',\n",
              " 'Potato___Early_blight',\n",
              " 'Potato___Late_blight',\n",
              " 'Potato___healthy',\n",
              " 'Raspberry___healthy',\n",
              " 'Soybean___healthy',\n",
              " 'Squash___Powdery_mildew',\n",
              " 'Strawberry___Leaf_scorch',\n",
              " 'Strawberry___healthy',\n",
              " 'Tomato___Bacterial_spot',\n",
              " 'Tomato___Early_blight',\n",
              " 'Tomato___Late_blight',\n",
              " 'Tomato___Leaf_Mold',\n",
              " 'Tomato___Septoria_leaf_spot',\n",
              " 'Tomato___Spider_mites Two-spotted_spider_mite',\n",
              " 'Tomato___Target_Spot',\n",
              " 'Tomato___Tomato_Yellow_Leaf_Curl_Virus',\n",
              " 'Tomato___Tomato_mosaic_virus',\n",
              " 'Tomato___healthy']"
            ]
          },
          "metadata": {},
          "execution_count": 14
        }
      ]
    },
    {
      "cell_type": "code",
      "source": [
        "for img, label in train_generator:\n",
        "    #print(img)\n",
        "    print(label)\n",
        "    break"
      ],
      "metadata": {
        "id": "NRX2_Om0MYcM",
        "colab": {
          "base_uri": "https://localhost:8080/"
        },
        "outputId": "9fdf9034-2ee1-4a54-8b6d-e60a94fe82f8"
      },
      "execution_count": 15,
      "outputs": [
        {
          "output_type": "stream",
          "name": "stdout",
          "text": [
            "[[0. 0. 0. ... 0. 0. 0.]\n",
            " [0. 0. 0. ... 0. 0. 0.]\n",
            " [0. 0. 0. ... 0. 0. 0.]\n",
            " ...\n",
            " [0. 0. 0. ... 0. 0. 0.]\n",
            " [0. 0. 0. ... 0. 0. 0.]\n",
            " [0. 0. 0. ... 0. 0. 0.]]\n"
          ]
        }
      ]
    },
    {
      "cell_type": "code",
      "source": [
        "label[10]"
      ],
      "metadata": {
        "id": "bmn75HBONV-I",
        "colab": {
          "base_uri": "https://localhost:8080/"
        },
        "outputId": "93c50637-1d54-4f76-cfd7-6ac8a54dfdee"
      },
      "execution_count": 16,
      "outputs": [
        {
          "output_type": "execute_result",
          "data": {
            "text/plain": [
              "array([0., 0., 1., 0., 0., 0., 0., 0., 0., 0., 0., 0., 0., 0., 0., 0., 0.,\n",
              "       0., 0., 0., 0., 0., 0., 0., 0., 0., 0., 0., 0., 0., 0., 0., 0., 0.,\n",
              "       0., 0., 0., 0.], dtype=float32)"
            ]
          },
          "metadata": {},
          "execution_count": 16
        }
      ]
    },
    {
      "cell_type": "code",
      "source": [
        "len(class_labels)"
      ],
      "metadata": {
        "id": "Nkt_2mh9PDLT",
        "colab": {
          "base_uri": "https://localhost:8080/"
        },
        "outputId": "62bca8dc-2961-4b16-a226-bdc0547ee959"
      },
      "execution_count": 17,
      "outputs": [
        {
          "output_type": "execute_result",
          "data": {
            "text/plain": [
              "38"
            ]
          },
          "metadata": {},
          "execution_count": 17
        }
      ]
    },
    {
      "cell_type": "markdown",
      "source": [
        "# Train and Save Model"
      ],
      "metadata": {
        "id": "o9YiEKVreaZc"
      }
    },
    {
      "cell_type": "code",
      "source": [
        "# Load pre-trained MobileNetV2 model\n",
        "base_model = MobileNetV2(input_shape=(224,224,3),\n",
        "                         include_top=False, weights='imagenet')\n",
        "\n",
        "# Freeze the pre-trained layers\n",
        "for layer in base_model.layers:\n",
        "    layer.trainable = False\n",
        "\n",
        "# Create a Sequential model\n",
        "model = Sequential()\n",
        "\n",
        "model.add(base_model)\n",
        "model.add(GlobalAveragePooling2D())\n",
        "model.add(Dense(100, activation='relu'))  # Add a dense layer with 1024 units\n",
        "model.add(Dense(100, activation='relu'))   # Add another dense layer with 512 units\n",
        "model.add(Dense(len(class_labels), activation='softmax'))\n",
        "\n",
        "model.compile(optimizer='adam',loss='sparse_categorical_crossentropy',\n",
        "             metrics=['accuracy'])\n",
        "\n",
        "model.summary()"
      ],
      "metadata": {
        "id": "xx7PGYnYQe6d",
        "colab": {
          "base_uri": "https://localhost:8080/"
        },
        "outputId": "ef034d73-bb55-42e2-d227-e9a331abc7ca"
      },
      "execution_count": 18,
      "outputs": [
        {
          "output_type": "stream",
          "name": "stdout",
          "text": [
            "Downloading data from https://storage.googleapis.com/tensorflow/keras-applications/mobilenet_v2/mobilenet_v2_weights_tf_dim_ordering_tf_kernels_1.0_224_no_top.h5\n",
            "9406464/9406464 [==============================] - 0s 0us/step\n",
            "Model: \"sequential\"\n",
            "_________________________________________________________________\n",
            " Layer (type)                Output Shape              Param #   \n",
            "=================================================================\n",
            " mobilenetv2_1.00_224 (Func  (None, 7, 7, 1280)        2257984   \n",
            " tional)                                                         \n",
            "                                                                 \n",
            " global_average_pooling2d (  (None, 1280)              0         \n",
            " GlobalAveragePooling2D)                                         \n",
            "                                                                 \n",
            " dense (Dense)               (None, 100)               128100    \n",
            "                                                                 \n",
            " dense_1 (Dense)             (None, 100)               10100     \n",
            "                                                                 \n",
            " dense_2 (Dense)             (None, 38)                3838      \n",
            "                                                                 \n",
            "=================================================================\n",
            "Total params: 2400022 (9.16 MB)\n",
            "Trainable params: 142038 (554.84 KB)\n",
            "Non-trainable params: 2257984 (8.61 MB)\n",
            "_________________________________________________________________\n"
          ]
        }
      ]
    },
    {
      "cell_type": "code",
      "source": [
        "steps_per_epoch = len(train_generator)\n",
        "validation_steps = len(validation_generator)\n"
      ],
      "metadata": {
        "id": "QRN0qvUUUBXC"
      },
      "execution_count": 19,
      "outputs": []
    },
    {
      "cell_type": "code",
      "source": [
        "model.add(Dense(len(class_labels), activation='softmax'))\n",
        "model.compile(optimizer='adam', loss='categorical_crossentropy', metrics=['accuracy'])\n"
      ],
      "metadata": {
        "id": "fzXIBClaPiq9"
      },
      "execution_count": 20,
      "outputs": []
    },
    {
      "source": [
        "\n",
        "# Train the model\n",
        "history = model.fit(\n",
        "    train_generator,\n",
        "    batch_size=256,\n",
        "    epochs=15,\n",
        "    verbose=1,\n",
        "    validation_data=validation_generator,\n",
        "    steps_per_epoch=steps_per_epoch,  # Specify the number of steps per epoch\n",
        "    validation_steps=validation_steps  # Specify the number of validation steps\n",
        ")"
      ],
      "cell_type": "code",
      "metadata": {
        "id": "UKgbjt8hUB_t",
        "outputId": "12f53415-4ef0-49fb-b559-1b5c7a943eed",
        "colab": {
          "base_uri": "https://localhost:8080/"
        }
      },
      "execution_count": 21,
      "outputs": [
        {
          "output_type": "stream",
          "name": "stdout",
          "text": [
            "Epoch 1/15\n",
            "1758/1758 [==============================] - 756s 424ms/step - loss: 2.9829 - accuracy: 0.1767 - val_loss: 2.5643 - val_accuracy: 0.1981\n",
            "Epoch 2/15\n",
            "1758/1758 [==============================] - 767s 436ms/step - loss: 2.3271 - accuracy: 0.2063 - val_loss: 2.1881 - val_accuracy: 0.2458\n",
            "Epoch 3/15\n",
            "1758/1758 [==============================] - 779s 443ms/step - loss: 2.0499 - accuracy: 0.2732 - val_loss: 1.9637 - val_accuracy: 0.3280\n",
            "Epoch 4/15\n",
            "1758/1758 [==============================] - 827s 470ms/step - loss: 1.8591 - accuracy: 0.3579 - val_loss: 1.7858 - val_accuracy: 0.3820\n",
            "Epoch 5/15\n",
            "1758/1758 [==============================] - 805s 458ms/step - loss: 1.6948 - accuracy: 0.4267 - val_loss: 1.6477 - val_accuracy: 0.4433\n",
            "Epoch 6/15\n",
            "1758/1758 [==============================] - 818s 465ms/step - loss: 1.5553 - accuracy: 0.4889 - val_loss: 1.5242 - val_accuracy: 0.5024\n",
            "Epoch 7/15\n",
            "1758/1758 [==============================] - 816s 464ms/step - loss: 1.4188 - accuracy: 0.5490 - val_loss: 1.3807 - val_accuracy: 0.5749\n",
            "Epoch 8/15\n",
            "1758/1758 [==============================] - 813s 462ms/step - loss: 1.2556 - accuracy: 0.6491 - val_loss: 1.2033 - val_accuracy: 0.7025\n",
            "Epoch 9/15\n",
            "1758/1758 [==============================] - 825s 469ms/step - loss: 1.0593 - accuracy: 0.7490 - val_loss: 1.0268 - val_accuracy: 0.7522\n",
            "Epoch 10/15\n",
            "1758/1758 [==============================] - 805s 458ms/step - loss: 0.8993 - accuracy: 0.7793 - val_loss: 0.8931 - val_accuracy: 0.7739\n",
            "Epoch 11/15\n",
            "1758/1758 [==============================] - 809s 460ms/step - loss: 0.7642 - accuracy: 0.8092 - val_loss: 0.7740 - val_accuracy: 0.8010\n",
            "Epoch 12/15\n",
            "1758/1758 [==============================] - 805s 458ms/step - loss: 0.6690 - accuracy: 0.8283 - val_loss: 0.6896 - val_accuracy: 0.8193\n",
            "Epoch 13/15\n",
            "1758/1758 [==============================] - 805s 458ms/step - loss: 0.5907 - accuracy: 0.8560 - val_loss: 0.6353 - val_accuracy: 0.8484\n",
            "Epoch 14/15\n",
            "1758/1758 [==============================] - 798s 454ms/step - loss: 0.5166 - accuracy: 0.8746 - val_loss: 0.5566 - val_accuracy: 0.8530\n",
            "Epoch 15/15\n",
            "1758/1758 [==============================] - 799s 454ms/step - loss: 0.4654 - accuracy: 0.8838 - val_loss: 0.5349 - val_accuracy: 0.8621\n"
          ]
        }
      ]
    },
    {
      "cell_type": "code",
      "source": [
        "# Save The Model\n",
        "model.save(\"plant_disease_model.h5\")"
      ],
      "metadata": {
        "id": "sKVsNWr7XvfK"
      },
      "execution_count": 22,
      "outputs": []
    },
    {
      "cell_type": "code",
      "source": [
        "loss,acc = model.evaluate(train_generator)\n",
        "print(\"Loss on Train data:\",loss)\n",
        "print(\"Accuracy on Train data:\",acc)\n",
        "\n",
        "loss1,acc1 = model.evaluate(validation_generator)\n",
        "\n",
        "print(\"Loss on Test data:\",loss1)\n",
        "print(\"Accuracy on Test data:\",acc1)"
      ],
      "metadata": {
        "id": "76NnFh4IZfIB",
        "colab": {
          "base_uri": "https://localhost:8080/"
        },
        "outputId": "914984bf-f376-44db-dad9-74d2c6515f45"
      },
      "execution_count": 23,
      "outputs": [
        {
          "output_type": "stream",
          "name": "stdout",
          "text": [
            "1758/1758 [==============================] - 751s 427ms/step - loss: 0.4484 - accuracy: 0.8886\n",
            "Loss on Train data: 0.44836148619651794\n",
            "Accuracy on Train data: 0.8885708451271057\n",
            "110/110 [==============================] - 47s 430ms/step - loss: 0.5165 - accuracy: 0.8644\n",
            "Loss on Test data: 0.5164706707000732\n",
            "Accuracy on Test data: 0.8644019365310669\n"
          ]
        }
      ]
    },
    {
      "cell_type": "code",
      "source": [
        "acc = history.history[\"accuracy\"]\n",
        "val_acc = history.history[\"val_accuracy\"]\n",
        "\n",
        "loss = history.history[\"loss\"]\n",
        "val_loss = history.history[\"val_loss\"]"
      ],
      "metadata": {
        "id": "hsGWMN5zdTpb"
      },
      "execution_count": 24,
      "outputs": []
    },
    {
      "cell_type": "markdown",
      "source": [
        "# Plot Performance"
      ],
      "metadata": {
        "id": "M83VUGisekMi"
      }
    },
    {
      "cell_type": "code",
      "source": [
        "acc = history.history['accuracy']\n",
        "val_acc = history.history['val_accuracy']\n",
        "loss = history.history['loss']\n",
        "val_loss = history.history['val_loss']\n",
        "\n",
        "# Ensure that acc, val_acc, loss, and val_loss have the same length\n",
        "assert len(acc) == len(val_acc) == len(loss) == len(val_loss)\n",
        "\n",
        "EPOCHS = len(acc)\n",
        "\n",
        "plt.figure(figsize=(12, 6))\n",
        "plt.subplot(1, 2, 1)\n",
        "plt.plot(range(1, EPOCHS + 1), acc, label=\"Training Accuracy\")\n",
        "plt.plot(range(1, EPOCHS + 1), val_acc, label=\"Validation Accuracy\")\n",
        "plt.legend(loc=\"lower right\")\n",
        "plt.title(\"Training and Validation Accuracy\")\n",
        "\n",
        "plt.subplot(1, 2, 2)\n",
        "plt.plot(range(1, EPOCHS + 1), loss, label=\"Training Loss\")\n",
        "plt.plot(range(1, EPOCHS + 1), val_loss, label=\"Validation Loss\")\n",
        "plt.legend(loc=\"lower right\")\n",
        "plt.title(\"Training and Validation Loss\")\n",
        "plt.show()\n"
      ],
      "metadata": {
        "id": "NwA5WCogdaGX",
        "colab": {
          "base_uri": "https://localhost:8080/",
          "height": 545
        },
        "outputId": "3a063e3c-1877-46a7-cebd-a90b798ede66"
      },
      "execution_count": 25,
      "outputs": [
        {
          "output_type": "display_data",
          "data": {
            "text/plain": [
              "<Figure size 1200x600 with 2 Axes>"
            ],
            "image/png": "[encoded data removed]"
          },
          "metadata": {}
        }
      ]
    },
    {
      "cell_type": "markdown",
      "source": [
        "# Predicting the test data"
      ],
      "metadata": {
        "id": "v2bbvpqIskdc"
      }
    },
    {
      "cell_type": "code",
      "source": [
        "# Load the test image\n",
        "from tensorflow.keras.preprocessing import image\n",
        "img_path = 'test/test/TomatoHealthy1.JPG'\n",
        "img_path = \"test/test/TomatoHealthy3.JPG\"\n",
        "img = image.load_img(img_path, target_size=(224, 224))\n",
        "#img\n",
        "img_array = image.img_to_array(img)\n",
        "print(img_array.shape)\n",
        "img_array = np.expand_dims(img_array, axis=0)  # Add batch dimension\n",
        "# Scale The Data\n",
        "img_array = img_array/255\n",
        "print(img_array.shape)"
      ],
      "metadata": {
        "id": "5Z8jbx1Ql45b",
        "colab": {
          "base_uri": "https://localhost:8080/"
        },
        "outputId": "d8b85c0c-582f-42bc-95b0-58220eb7ef62"
      },
      "execution_count": 26,
      "outputs": [
        {
          "metadata": {
            "tags": null
          },
          "name": "stdout",
          "output_type": "stream",
          "text": [
            "(224, 224, 3)\n",
            "(1, 224, 224, 3)\n"
          ]
        }
      ]
    },
    {
      "cell_type": "code",
      "source": [
        "y_pred = model.predict(img_array)\n",
        "y_pred"
      ],
      "metadata": {
        "id": "E6iv2SLImifD",
        "colab": {
          "base_uri": "https://localhost:8080/"
        },
        "outputId": "a8f4880a-699e-43cc-ad50-21d80294f4f7"
      },
      "execution_count": 27,
      "outputs": [
        {
          "output_type": "stream",
          "name": "stdout",
          "text": [
            "1/1 [==============================] - 2s 2s/step\n"
          ]
        },
        {
          "output_type": "execute_result",
          "data": {
            "text/plain": [
              "array([[1.44221119e-07, 2.40576288e-08, 1.94383301e-08, 1.85821690e-07,\n",
              "        6.02818631e-08, 1.40598502e-07, 7.08231873e-09, 3.73151510e-09,\n",
              "        1.42909062e-09, 5.67694558e-10, 2.33076031e-10, 1.86372997e-08,\n",
              "        1.75182464e-08, 1.04814554e-02, 8.31985788e-04, 2.53493981e-09,\n",
              "        4.28524260e-07, 1.19484700e-02, 4.01747480e-09, 2.84185859e-07,\n",
              "        1.16874643e-08, 4.41231641e-05, 2.35923693e-07, 9.44384393e-09,\n",
              "        1.12576885e-07, 1.75367557e-02, 3.67631969e-09, 3.76080278e-09,\n",
              "        1.47863091e-06, 7.99516449e-04, 5.33277402e-04, 1.68192647e-02,\n",
              "        1.03500590e-03, 5.37049659e-02, 4.97628637e-02, 3.17216404e-07,\n",
              "        1.10713616e-02, 8.25427473e-01]], dtype=float32)"
            ]
          },
          "metadata": {},
          "execution_count": 27
        }
      ]
    },
    {
      "cell_type": "code",
      "source": [
        "np.argmax(y_pred[0])"
      ],
      "metadata": {
        "id": "mG8w6rmEmlf4",
        "colab": {
          "base_uri": "https://localhost:8080/"
        },
        "outputId": "f9007ecb-7e35-4825-e7c5-e4b835237882"
      },
      "execution_count": 28,
      "outputs": [
        {
          "output_type": "execute_result",
          "data": {
            "text/plain": [
              "37"
            ]
          },
          "metadata": {},
          "execution_count": 28
        }
      ]
    },
    {
      "cell_type": "code",
      "source": [
        "len(y_pred[0])"
      ],
      "metadata": {
        "id": "0udq9cxbmolt",
        "colab": {
          "base_uri": "https://localhost:8080/"
        },
        "outputId": "77a5646f-74a6-473f-89c8-6d4b8ec64cbb"
      },
      "execution_count": 29,
      "outputs": [
        {
          "output_type": "execute_result",
          "data": {
            "text/plain": [
              "38"
            ]
          },
          "metadata": {},
          "execution_count": 29
        }
      ]
    },
    {
      "cell_type": "code",
      "source": [
        "class_labels[np.argmax(y_pred[0])]"
      ],
      "metadata": {
        "id": "y5uJNrvXmrsj",
        "colab": {
          "base_uri": "https://localhost:8080/",
          "height": 35
        },
        "outputId": "82dbe84c-9d70-4bb1-a86a-27beadcec6bd"
      },
      "execution_count": 30,
      "outputs": [
        {
          "output_type": "execute_result",
          "data": {
            "text/plain": [
              "'Tomato___healthy'"
            ],
            "application/vnd.google.colaboratory.intrinsic+json": {
              "type": "string"
            }
          },
          "metadata": {},
          "execution_count": 30
        }
      ]
    },
    {
      "cell_type": "code",
      "source": [
        "dict_class = {'Label':class_labels}\n",
        "dict_class"
      ],
      "metadata": {
        "id": "XqNQAyqrmuz7",
        "colab": {
          "base_uri": "https://localhost:8080/"
        },
        "outputId": "5bcb7419-bdf1-4fbc-e87f-a6e4980a3c91"
      },
      "execution_count": 31,
      "outputs": [
        {
          "output_type": "execute_result",
          "data": {
            "text/plain": [
              "{'Label': ['Apple___Apple_scab',\n",
              "  'Apple___Black_rot',\n",
              "  'Apple___Cedar_apple_rust',\n",
              "  'Apple___healthy',\n",
              "  'Blueberry___healthy',\n",
              "  'Cherry_(including_sour)___Powdery_mildew',\n",
              "  'Cherry_(including_sour)___healthy',\n",
              "  'Corn_(maize)___Cercospora_leaf_spot Gray_leaf_spot',\n",
              "  'Corn_(maize)___Common_rust_',\n",
              "  'Corn_(maize)___Northern_Leaf_Blight',\n",
              "  'Corn_(maize)___healthy',\n",
              "  'Grape___Black_rot',\n",
              "  'Grape___Esca_(Black_Measles)',\n",
              "  'Grape___Leaf_blight_(Isariopsis_Leaf_Spot)',\n",
              "  'Grape___healthy',\n",
              "  'Orange___Haunglongbing_(Citrus_greening)',\n",
              "  'Peach___Bacterial_spot',\n",
              "  'Peach___healthy',\n",
              "  'Pepper,_bell___Bacterial_spot',\n",
              "  'Pepper,_bell___healthy',\n",
              "  'Potato___Early_blight',\n",
              "  'Potato___Late_blight',\n",
              "  'Potato___healthy',\n",
              "  'Raspberry___healthy',\n",
              "  'Soybean___healthy',\n",
              "  'Squash___Powdery_mildew',\n",
              "  'Strawberry___Leaf_scorch',\n",
              "  'Strawberry___healthy',\n",
              "  'Tomato___Bacterial_spot',\n",
              "  'Tomato___Early_blight',\n",
              "  'Tomato___Late_blight',\n",
              "  'Tomato___Leaf_Mold',\n",
              "  'Tomato___Septoria_leaf_spot',\n",
              "  'Tomato___Spider_mites Two-spotted_spider_mite',\n",
              "  'Tomato___Target_Spot',\n",
              "  'Tomato___Tomato_Yellow_Leaf_Curl_Virus',\n",
              "  'Tomato___Tomato_mosaic_virus',\n",
              "  'Tomato___healthy']}"
            ]
          },
          "metadata": {},
          "execution_count": 31
        }
      ]
    },
    {
      "cell_type": "code",
      "source": [
        "dict_class['Label'][2]"
      ],
      "metadata": {
        "id": "U3sFsMi2mx_O",
        "colab": {
          "base_uri": "https://localhost:8080/",
          "height": 35
        },
        "outputId": "f3476ff8-2709-40fc-dc35-d01fcfadeb92"
      },
      "execution_count": 32,
      "outputs": [
        {
          "output_type": "execute_result",
          "data": {
            "text/plain": [
              "'Apple___Cedar_apple_rust'"
            ],
            "application/vnd.google.colaboratory.intrinsic+json": {
              "type": "string"
            }
          },
          "metadata": {},
          "execution_count": 32
        }
      ]
    },
    {
      "cell_type": "code",
      "source": [
        "import json\n",
        "\n",
        "with open(\"class_labels.json\",'w') as file:\n",
        "    json.dump(dict_class,file)"
      ],
      "metadata": {
        "id": "evrfXUp-m1Rx"
      },
      "execution_count": 33,
      "outputs": []
    }
  ]
}