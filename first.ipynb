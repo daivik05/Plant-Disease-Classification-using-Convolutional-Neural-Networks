{
  "nbformat": 4,
  "nbformat_minor": 0,
  "metadata": {
    "colab": {
      "provenance": [],
      "gpuType": "T4",
      "collapsed_sections": [
        "v2bbvpqIskdc",
        "38QV4TYosMfx"
      ]
    },
    "kernelspec": {
      "name": "python3",
      "display_name": "Python 3"
    },
    "language_info": {
      "name": "python"
    },
    "accelerator": "GPU"
  },
  "cells": [
    {
      "cell_type": "markdown",
      "source": [
        "# Install Dependencies and Setup"
      ],
      "metadata": {
        "id": "VgXOVOFFdfh2"
      }
    },
    {
      "cell_type": "code",
      "source": [
        "import warnings\n",
        "warnings.filterwarnings('ignore')\n",
        "\n",
        "import os\n",
        "import pandas as pd\n",
        "import numpy as np\n",
        "import matplotlib.pyplot as plt\n",
        "%matplotlib inline\n",
        "import seaborn as sns\n",
        "from sklearn.metrics import classification_report , confusion_matrix , accuracy_score , auc\n",
        "from sklearn.model_selection import train_test_split\n",
        "\n",
        "import cv2\n",
        "#from google.colab.patches import cv2_imshow\n",
        "from PIL import Image\n",
        "import tensorflow as tf\n",
        "from tensorflow import keras\n",
        "from keras import Sequential\n",
        "from keras.layers import Input, Dense,Conv2D , MaxPooling2D, Flatten,BatchNormalization,Dropout\n",
        "from tensorflow.keras.preprocessing import image_dataset_from_directory\n",
        "import tensorflow_hub as hub\n",
        "\n",
        "from keras.applications import MobileNetV2\n",
        "from keras.applications.vgg19 import VGG19\n",
        "from keras.preprocessing.image import ImageDataGenerator\n",
        "from keras.layers import GlobalAveragePooling2D"
      ],
      "metadata": {
        "id": "JEuL2-12Mq6B"
      },
      "execution_count": 1,
      "outputs": []
    },
    {
      "cell_type": "code",
      "source": [
        "!pip install tensorflow\n"
      ],
      "metadata": {
        "id": "EYT0l180Hclw"
      },
      "execution_count": null,
      "outputs": []
    },
    {
      "cell_type": "markdown",
      "source": [
        "# Load Data"
      ],
      "metadata": {
        "id": "9GHocRAudqXu"
      }
    },
    {
      "cell_type": "code",
      "source": [
        "repo_name = 'Plant-Disease-Classification-using-Convolutional-Neural-Networks'\n",
        "repo_url = f'https://github.com/daivik05/Plant-Disease-Classification-using-Convolutional-Neural-Networks.git'  # Replace your_username\n",
        "!git clone $repo_url"
      ],
      "metadata": {
        "id": "TWVOEYdU_lN8"
      },
      "execution_count": null,
      "outputs": []
    },
    {
      "cell_type": "code",
      "source": [
        "project_dir = f'/content/{repo_name}'\n",
        "%cd $project_dir"
      ],
      "metadata": {
        "id": "0F2klCs8HOiO"
      },
      "execution_count": null,
      "outputs": []
    },
    {
      "cell_type": "code",
      "source": [
        "train_path = 'New Plant Diseases Dataset(Augmented)/New Plant Diseases Dataset(Augmented)/train'\n",
        "valid_path = 'New Plant Diseases Dataset(Augmented)/New Plant Diseases Dataset(Augmented)/valid'\n"
      ],
      "metadata": {
        "id": "B8SSBbcXHm4Z"
      },
      "execution_count": 5,
      "outputs": []
    },
    {
      "cell_type": "code",
      "source": [
        "train_data = tf.keras.preprocessing.image_dataset_from_directory(\n",
        " train_path,\n",
        "    batch_size=256,\n",
        "  image_size=(224,224), shuffle=True\n",
        ")"
      ],
      "metadata": {
        "id": "nF7vNRqOPyf-"
      },
      "execution_count": null,
      "outputs": []
    },
    {
      "cell_type": "code",
      "source": [
        "valid_data = tf.keras.preprocessing.image_dataset_from_directory(\n",
        " valid_path,\n",
        "    batch_size=256,\n",
        "  image_size=(224,224), shuffle=True\n",
        ")"
      ],
      "metadata": {
        "id": "wba-Q-ILP-yR"
      },
      "execution_count": null,
      "outputs": []
    },
    {
      "cell_type": "markdown",
      "source": [
        "# Split and generate data"
      ],
      "metadata": {
        "id": "DKm70QM9d-id"
      }
    },
    {
      "cell_type": "code",
      "source": [
        "datagen = ImageDataGenerator(\n",
        "    rescale=1.0/255.0,\n",
        "    shear_range=0.2,\n",
        "    zoom_range=0.2,\n",
        "    horizontal_flip=True,\n",
        "    validation_split=0.2\n",
        ")"
      ],
      "metadata": {
        "id": "UE2zCvWGJybR"
      },
      "execution_count": 8,
      "outputs": []
    },
    {
      "cell_type": "code",
      "source": [
        "train_generator = datagen.flow_from_directory(\n",
        "    train_path,\n",
        "    target_size=(224, 224),\n",
        "    batch_size=32,\n",
        "    class_mode='categorical',\n",
        "    subset='training'\n",
        ")"
      ],
      "metadata": {
        "colab": {
          "base_uri": "https://localhost:8080/"
        },
        "id": "sDTIom_-J1rl",
        "outputId": "4c149870-73c8-4f00-82bb-2a7877827953"
      },
      "execution_count": 9,
      "outputs": [
        {
          "output_type": "stream",
          "name": "stdout",
          "text": [
            "Found 56251 images belonging to 38 classes.\n"
          ]
        }
      ]
    },
    {
      "cell_type": "code",
      "source": [
        "validation_generator = datagen.flow_from_directory(\n",
        "    valid_path,\n",
        "    target_size=(224, 224),\n",
        "    batch_size=32,\n",
        "    class_mode='categorical',\n",
        "    subset='validation'\n",
        ")"
      ],
      "metadata": {
        "colab": {
          "base_uri": "https://localhost:8080/"
        },
        "id": "NMpBebyYJ42e",
        "outputId": "7eb2aa51-9d85-4450-8db2-ae24fdc839e8"
      },
      "execution_count": 10,
      "outputs": [
        {
          "output_type": "stream",
          "name": "stdout",
          "text": [
            "Found 3503 images belonging to 38 classes.\n"
          ]
        }
      ]
    },
    {
      "cell_type": "code",
      "source": [
        "for img, label in train_generator:\n",
        "    print(\"Training Batch Shapes:\", img.shape, label.shape)\n",
        "    break\n",
        "\n",
        "for img, label in validation_generator:\n",
        "    print(\"Validation Batch Shapes:\", img.shape, label.shape)\n",
        "    break\n",
        "\n"
      ],
      "metadata": {
        "colab": {
          "base_uri": "https://localhost:8080/"
        },
        "id": "V_Joiz9HNuxn",
        "outputId": "5154d911-7758-4c18-dcb2-0a58e98ca4e8"
      },
      "execution_count": 11,
      "outputs": [
        {
          "output_type": "stream",
          "name": "stdout",
          "text": [
            "Training Batch Shapes: (32, 224, 224, 3) (32, 38)\n",
            "Validation Batch Shapes: (32, 224, 224, 3) (32, 38)\n"
          ]
        }
      ]
    },
    {
      "cell_type": "code",
      "source": [
        "train_generator.class_indices\n"
      ],
      "metadata": {
        "id": "6_y6bCoVL-t5"
      },
      "execution_count": null,
      "outputs": []
    },
    {
      "cell_type": "code",
      "source": [
        "len(train_data.class_names)"
      ],
      "metadata": {
        "id": "pDbHzhHmPfzk"
      },
      "execution_count": null,
      "outputs": []
    },
    {
      "cell_type": "code",
      "source": [
        "class_labels = train_data.class_names\n",
        "class_labels"
      ],
      "metadata": {
        "id": "ZfAxJPICPU4V"
      },
      "execution_count": null,
      "outputs": []
    },
    {
      "cell_type": "code",
      "source": [
        "for img, label in train_generator:\n",
        "    #print(img)\n",
        "    print(label)\n",
        "    break"
      ],
      "metadata": {
        "id": "NRX2_Om0MYcM"
      },
      "execution_count": null,
      "outputs": []
    },
    {
      "cell_type": "code",
      "source": [
        "label[10]"
      ],
      "metadata": {
        "id": "bmn75HBONV-I"
      },
      "execution_count": null,
      "outputs": []
    },
    {
      "cell_type": "code",
      "source": [
        "len(class_labels)"
      ],
      "metadata": {
        "colab": {
          "base_uri": "https://localhost:8080/"
        },
        "id": "Nkt_2mh9PDLT",
        "outputId": "956983ae-5280-48d3-90f3-6efd3a6caecc"
      },
      "execution_count": 17,
      "outputs": [
        {
          "output_type": "execute_result",
          "data": {
            "text/plain": [
              "38"
            ]
          },
          "metadata": {},
          "execution_count": 17
        }
      ]
    },
    {
      "cell_type": "markdown",
      "source": [
        "# Train and Save Model"
      ],
      "metadata": {
        "id": "o9YiEKVreaZc"
      }
    },
    {
      "cell_type": "code",
      "source": [
        "# Load pre-trained MobileNetV2 model\n",
        "base_model = MobileNetV2(input_shape=(224,224,3),\n",
        "                         include_top=False, weights='imagenet')\n",
        "\n",
        "# Freeze the pre-trained layers\n",
        "for layer in base_model.layers:\n",
        "    layer.trainable = False\n",
        "\n",
        "# Create a Sequential model\n",
        "model = Sequential()\n",
        "\n",
        "model.add(base_model)\n",
        "model.add(GlobalAveragePooling2D())\n",
        "model.add(Dense(100, activation='relu'))  # Add a dense layer with 1024 units\n",
        "model.add(Dense(100, activation='relu'))   # Add another dense layer with 512 units\n",
        "model.add(Dense(len(class_labels), activation='softmax'))\n",
        "\n",
        "model.compile(optimizer='adam',loss='sparse_categorical_crossentropy',\n",
        "             metrics=['accuracy'])\n",
        "\n",
        "model.summary()"
      ],
      "metadata": {
        "id": "xx7PGYnYQe6d"
      },
      "execution_count": null,
      "outputs": []
    },
    {
      "cell_type": "code",
      "source": [
        "steps_per_epoch = len(train_generator)\n",
        "validation_steps = len(validation_generator)\n"
      ],
      "metadata": {
        "id": "QRN0qvUUUBXC"
      },
      "execution_count": 19,
      "outputs": []
    },
    {
      "cell_type": "code",
      "source": [
        "model.add(Dense(len(class_labels), activation='softmax'))\n",
        "model.compile(optimizer='adam', loss='categorical_crossentropy', metrics=['accuracy'])\n"
      ],
      "metadata": {
        "id": "fzXIBClaPiq9"
      },
      "execution_count": 20,
      "outputs": []
    },
    {
      "source": [
        "\n",
        "# Train the model\n",
        "history = model.fit(\n",
        "    train_generator,\n",
        "    batch_size=256,\n",
        "    epochs=10,\n",
        "    verbose=1,\n",
        "    validation_data=validation_generator,\n",
        "    steps_per_epoch=steps_per_epoch,  # Specify the number of steps per epoch\n",
        "    validation_steps=validation_steps  # Specify the number of validation steps\n",
        ")"
      ],
      "cell_type": "code",
      "metadata": {
        "id": "UKgbjt8hUB_t",
        "outputId": "8448ebb9-effb-4075-f869-e793f7aaa9e3",
        "colab": {
          "base_uri": "https://localhost:8080/"
        }
      },
      "execution_count": null,
      "outputs": [
        {
          "output_type": "stream",
          "name": "stdout",
          "text": [
            "1210/1758 [===================>..........] - ETA: 3:50 - loss: 2.0220 - accuracy: 0.2292"
          ]
        }
      ]
    },
    {
      "cell_type": "code",
      "source": [
        "# Save The Model\n",
        "model.save(\"plant_disease_model.h5\")"
      ],
      "metadata": {
        "id": "sKVsNWr7XvfK"
      },
      "execution_count": null,
      "outputs": []
    },
    {
      "cell_type": "code",
      "source": [
        "loss,acc = model.evaluate(train_generator)\n",
        "print(\"Loss on Train data:\",loss)\n",
        "print(\"Accuracy on Train data:\",acc)\n",
        "\n",
        "loss1,acc1 = model.evaluate(validation_generator)\n",
        "\n",
        "print(\"Loss on Test data:\",loss1)\n",
        "print(\"Accuracy on Test data:\",acc1)"
      ],
      "metadata": {
        "id": "76NnFh4IZfIB"
      },
      "execution_count": null,
      "outputs": []
    },
    {
      "cell_type": "code",
      "source": [
        "acc = history.history[\"accuracy\"]\n",
        "val_acc = history.history[\"val_accuracy\"]\n",
        "\n",
        "loss = history.history[\"loss\"]\n",
        "val_loss = history.history[\"val_loss\"]"
      ],
      "metadata": {
        "id": "hsGWMN5zdTpb"
      },
      "execution_count": null,
      "outputs": []
    },
    {
      "cell_type": "markdown",
      "source": [
        "# Plot Performance"
      ],
      "metadata": {
        "id": "M83VUGisekMi"
      }
    },
    {
      "cell_type": "code",
      "source": [
        "acc = history.history['accuracy']\n",
        "val_acc = history.history['val_accuracy']\n",
        "loss = history.history['loss']\n",
        "val_loss = history.history['val_loss']\n",
        "\n",
        "# Ensure that acc, val_acc, loss, and val_loss have the same length\n",
        "assert len(acc) == len(val_acc) == len(loss) == len(val_loss)\n",
        "\n",
        "EPOCHS = len(acc)\n",
        "\n",
        "plt.figure(figsize=(12, 6))\n",
        "plt.subplot(1, 2, 1)\n",
        "plt.plot(range(1, EPOCHS + 1), acc, label=\"Training Accuracy\")\n",
        "plt.plot(range(1, EPOCHS + 1), val_acc, label=\"Validation Accuracy\")\n",
        "plt.legend(loc=\"lower right\")\n",
        "plt.title(\"Training and Validation Accuracy\")\n",
        "\n",
        "plt.subplot(1, 2, 2)\n",
        "plt.plot(range(1, EPOCHS + 1), loss, label=\"Training Loss\")\n",
        "plt.plot(range(1, EPOCHS + 1), val_loss, label=\"Validation Loss\")\n",
        "plt.legend(loc=\"lower right\")\n",
        "plt.title(\"Training and Validation Loss\")\n",
        "plt.show()\n"
      ],
      "metadata": {
        "id": "NwA5WCogdaGX"
      },
      "execution_count": null,
      "outputs": []
    },
    {
      "cell_type": "markdown",
      "source": [
        "# Predicting the test data"
      ],
      "metadata": {
        "id": "v2bbvpqIskdc"
      }
    },
    {
      "cell_type": "code",
      "source": [
        "# Load the test image\n",
        "from tensorflow.keras.preprocessing import image\n",
        "img_path = 'test/test/AppleCedarRust1.JPG'\n",
        "img_path = \"test/test/AppleScab1.JPG\"\n",
        "img = image.load_img(img_path, target_size=(224, 224))\n",
        "#img\n",
        "img_array = image.img_to_array(img)\n",
        "print(img_array.shape)\n",
        "img_array = np.expand_dims(img_array, axis=0)  # Add batch dimension\n",
        "# Scale The Data\n",
        "img_array = img_array/255\n",
        "print(img_array.shape)"
      ],
      "metadata": {
        "id": "5Z8jbx1Ql45b"
      },
      "execution_count": null,
      "outputs": []
    },
    {
      "cell_type": "code",
      "source": [
        "y_pred = model.predict(img_array)\n",
        "y_pred"
      ],
      "metadata": {
        "id": "E6iv2SLImifD"
      },
      "execution_count": null,
      "outputs": []
    },
    {
      "cell_type": "code",
      "source": [
        "np.argmax(y_pred[0])"
      ],
      "metadata": {
        "id": "mG8w6rmEmlf4"
      },
      "execution_count": null,
      "outputs": []
    },
    {
      "cell_type": "code",
      "source": [
        "len(y_pred[0])"
      ],
      "metadata": {
        "id": "0udq9cxbmolt"
      },
      "execution_count": null,
      "outputs": []
    },
    {
      "cell_type": "code",
      "source": [
        "class_labels[np.argmax(y_pred[0])]"
      ],
      "metadata": {
        "id": "y5uJNrvXmrsj"
      },
      "execution_count": null,
      "outputs": []
    },
    {
      "cell_type": "code",
      "source": [
        "dict_class = {'Label':class_labels}\n",
        "dict_class"
      ],
      "metadata": {
        "id": "XqNQAyqrmuz7"
      },
      "execution_count": null,
      "outputs": []
    },
    {
      "cell_type": "code",
      "source": [
        "dict_class['Label'][2]"
      ],
      "metadata": {
        "id": "U3sFsMi2mx_O"
      },
      "execution_count": null,
      "outputs": []
    },
    {
      "cell_type": "code",
      "source": [
        "import json\n",
        "\n",
        "with open(\"class_labels.json\",'w') as file:\n",
        "    json.dump(dict_class,file)"
      ],
      "metadata": {
        "id": "evrfXUp-m1Rx"
      },
      "execution_count": null,
      "outputs": []
    },
    {
      "cell_type": "code",
      "source": [
        "from google.colab import files\n",
        "\n",
        "files.download(\"class_labels.json\")\n"
      ],
      "metadata": {
        "id": "o1tFSPKFrFmD"
      },
      "execution_count": null,
      "outputs": []
    },
    {
      "cell_type": "code",
      "source": [
        "from google.colab import files\n",
        "\n",
        "files.download(\"plant_disease_model.h5\")\n"
      ],
      "metadata": {
        "id": "Ibdl7uoCr1zN"
      },
      "execution_count": null,
      "outputs": []
    },
    {
      "cell_type": "markdown",
      "source": [
        "# Predicting the model"
      ],
      "metadata": {
        "id": "38QV4TYosMfx"
      }
    },
    {
      "cell_type": "code",
      "source": [
        "from keras.preprocessing import image\n",
        "from keras.applications.mobilenet_v2 import preprocess_input\n",
        "\n",
        "# Assuming you have a test image for prediction\n",
        "test_image_path = 'test/test/TomatoHealthy3.JPG'  # Replace with your test image path\n",
        "\n",
        "# Load and preprocess the test image\n",
        "img = image.load_img(test_image_path, target_size=(224, 224))\n",
        "img_array = image.img_to_array(img)\n",
        "img_array = np.expand_dims(img_array, axis=0)\n",
        "processed_image = preprocess_input(img_array)\n",
        "\n",
        "# Make predictions\n",
        "predictions = loaded_model.predict(processed_image)\n",
        "\n",
        "# Assuming you have class labels\n",
        "class_labels = ['Apple___Apple_scab',\n",
        " 'Apple___Black_rot',\n",
        " 'Apple___Cedar_apple_rust',\n",
        " 'Apple___healthy',\n",
        " 'Blueberry___healthy',\n",
        " 'Cherry_(including_sour)___Powdery_mildew',\n",
        " 'Cherry_(including_sour)___healthy',\n",
        " 'Corn_(maize)___Cercospora_leaf_spot Gray_leaf_spot',\n",
        " 'Corn_(maize)___Common_rust_',\n",
        " 'Corn_(maize)___Northern_Leaf_Blight',\n",
        " 'Corn_(maize)___healthy',\n",
        " 'Grape___Black_rot',\n",
        " 'Grape___Esca_(Black_Measles)',\n",
        " 'Grape___Leaf_blight_(Isariopsis_Leaf_Spot)',\n",
        " 'Grape___healthy',\n",
        " 'Orange___Haunglongbing_(Citrus_greening)',\n",
        " 'Peach___Bacterial_spot',\n",
        " 'Peach___healthy',\n",
        " 'Pepper,_bell___Bacterial_spot',\n",
        " 'Pepper,_bell___healthy',\n",
        " 'Potato___Early_blight',\n",
        " 'Potato___Late_blight',\n",
        " 'Potato___healthy',\n",
        " 'Raspberry___healthy',\n",
        " 'Soybean___healthy',\n",
        " 'Squash___Powdery_mildew',\n",
        " 'Strawberry___Leaf_scorch',\n",
        " 'Strawberry___healthy',\n",
        " 'Tomato___Bacterial_spot',\n",
        " 'Tomato___Early_blight',\n",
        " 'Tomato___Late_blight',\n",
        " 'Tomato___Leaf_Mold',\n",
        " 'Tomato___Septoria_leaf_spot',\n",
        " 'Tomato___Spider_mites Two-spotted_spider_mite',\n",
        " 'Tomato___Target_Spot',\n",
        " 'Tomato___Tomato_Yellow_Leaf_Curl_Virus',\n",
        " 'Tomato___Tomato_mosaic_virus',\n",
        " 'Tomato___healthy']  # Replace with your class labels\n",
        "\n",
        "# Get the predicted class index\n",
        "predicted_class_index = np.argmax(predictions)\n",
        "\n",
        "# Get the predicted class label\n",
        "predicted_class_label = class_labels[predicted_class_index]\n",
        "\n",
        "print(\"Predicted Class Label:\", predicted_class_label)\n"
      ],
      "metadata": {
        "id": "OwJRDKFvsVu4"
      },
      "execution_count": null,
      "outputs": []
    }
  ]
}